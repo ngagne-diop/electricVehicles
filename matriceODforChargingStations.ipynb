{
 "cells": [
  {
   "cell_type": "code",
   "execution_count": 57,
   "id": "476a5876",
   "metadata": {},
   "outputs": [],
   "source": [
    "import math\n",
    "import matplotlib.pyplot as plt\n",
    "import numpy as np\n",
    "import pandas as pd\n",
    "import matsim\n",
    "import random"
   ]
  },
  {
   "cell_type": "code",
   "execution_count": 58,
   "id": "a478303d",
   "metadata": {},
   "outputs": [],
   "source": [
    "T=pd.read_csv(\"travelDiaryDeciles_npdc.csv\", \";\",encoding='utf8', dtype=str) # matrix trips"
   ]
  },
  {
   "cell_type": "code",
   "execution_count": 36,
   "id": "7cd7ba7f",
   "metadata": {},
   "outputs": [
    {
     "data": {
      "text/plain": [
       "Index(['DECH', 'PECH', 'COEQ', 'DP2', 'D4A', 'D4B', 'D3', 'D3X', 'D3Y', 'D2AA',\n",
       "       'D8A', 'D8B', 'D7', 'D7X', 'D7Y', 'D5AA', 'MODP', 'NDEP', 'SUP_D3',\n",
       "       'SUP_D7', 'CODEDEPT_D3', 'CODEREG_D3', 'CODEDEPT_D7', 'CODEREG_D7',\n",
       "       'MTDQ', 'PTDQ', 'P4', 'P2', 'P5', 'P10', 'M5', 'DOIB', 'DIST', 'D8C',\n",
       "       'D9', 'M6A', 'M6B', 'M6C', 'M6D', 'CODEDEPT_PP2', 'CODEREG_PP2',\n",
       "       'CODEDEPT_DP2', 'CODEREG_DP2', 'Q115', 'Q215', 'Q315', 'Q3_Q1', 'D115',\n",
       "       'D215', 'D315', 'D415', 'D615', 'D715', 'D815', 'D915', 'ECH_x'],\n",
       "      dtype='object')"
      ]
     },
     "execution_count": 36,
     "metadata": {},
     "output_type": "execute_result"
    }
   ],
   "source": [
    "T.columns"
   ]
  },
  {
   "cell_type": "code",
   "execution_count": 37,
   "id": "20c4c4f1",
   "metadata": {},
   "outputs": [],
   "source": [
    "T['DIST'] = T['DIST'].astype(float)\n",
    "T['D8C'] = T['D8C'].astype(float)\n",
    "T['COEQ'] = T['COEQ'].astype(float)"
   ]
  },
  {
   "cell_type": "code",
   "execution_count": 61,
   "id": "1b7c1bf8",
   "metadata": {},
   "outputs": [],
   "source": [
    "# Perform stochastic rounding for the population (and scale weights)\n",
    "def recovery(df, id_data, weight_data, old_id_data, random=1234):\n",
    "    df_cp = df.copy()\n",
    "    random = np.random.RandomState(random)\n",
    "    df_rounding = df_cp[[id_data, weight_data]].drop_duplicates(id_data)\n",
    "    df_rounding[\"multiplicator\"] = np.floor(df_rounding[weight_data])##Recuperation des parties entières\n",
    "    df_rounding[\"multiplicator\"] += random.random_sample(len(df_rounding)) <= (df_rounding[weight_data] - df_rounding[weight_data])###Arrondissement\n",
    "    df_rounding[\"multiplicator\"] = df_rounding[\"multiplicator\"].astype(np.int)\n",
    "\n",
    "    df_multiplicators = df_rounding[\"multiplicator\"].values\n",
    "    df_cp = df_cp.iloc[np.repeat(np.arange(len(df_cp)), df_multiplicators)]##Dupliquer les lignes autant de fois qu'il y a poids de personnes pour la ligne\n",
    "\n",
    "    # Create new person IDs\n",
    "    df_cp[old_id_data] = df_cp[id_data]\n",
    "    df_cp[id_data] = np.arange(len(df_cp))\n",
    "\n",
    "    del df_cp[weight_data]\n",
    "    \n",
    "    return df_cp"
   ]
  },
  {
   "cell_type": "code",
   "execution_count": 62,
   "id": "22b7f372",
   "metadata": {},
   "outputs": [
    {
     "name": "stderr",
     "output_type": "stream",
     "text": [
      "/tmp/ipykernel_30679/2436349370.py:8: DeprecationWarning: `np.int` is a deprecated alias for the builtin `int`. To silence this warning, use `int` by itself. Doing this will not modify any behavior and is safe. When replacing `np.int`, you may wish to use e.g. `np.int64` or `np.int32` to specify the precision. If you wish to review your current use, check the release note link for additional information.\n",
      "Deprecated in NumPy 1.20; for more details and guidance: https://numpy.org/devdocs/release/1.20.0-notes.html#deprecations\n",
      "  df_rounding[\"multiplicator\"] = df_rounding[\"multiplicator\"].astype(np.int)\n"
     ]
    },
    {
     "data": {
      "text/html": [
       "<div>\n",
       "<style scoped>\n",
       "    .dataframe tbody tr th:only-of-type {\n",
       "        vertical-align: middle;\n",
       "    }\n",
       "\n",
       "    .dataframe tbody tr th {\n",
       "        vertical-align: top;\n",
       "    }\n",
       "\n",
       "    .dataframe thead th {\n",
       "        text-align: right;\n",
       "    }\n",
       "</style>\n",
       "<table border=\"1\" class=\"dataframe\">\n",
       "  <thead>\n",
       "    <tr style=\"text-align: right;\">\n",
       "      <th></th>\n",
       "      <th>DECH</th>\n",
       "      <th>PECH</th>\n",
       "      <th>DP2</th>\n",
       "      <th>D4A</th>\n",
       "      <th>D4B</th>\n",
       "      <th>D3</th>\n",
       "      <th>D3X</th>\n",
       "      <th>D3Y</th>\n",
       "      <th>D2AA</th>\n",
       "      <th>D8A</th>\n",
       "      <th>...</th>\n",
       "      <th>D115</th>\n",
       "      <th>D215</th>\n",
       "      <th>D315</th>\n",
       "      <th>D415</th>\n",
       "      <th>D615</th>\n",
       "      <th>D715</th>\n",
       "      <th>D815</th>\n",
       "      <th>D915</th>\n",
       "      <th>ECH_x</th>\n",
       "      <th>rec_trip_id</th>\n",
       "    </tr>\n",
       "  </thead>\n",
       "  <tbody>\n",
       "    <tr>\n",
       "      <th>0</th>\n",
       "      <td>0</td>\n",
       "      <td>01200400010100401</td>\n",
       "      <td>62119</td>\n",
       "      <td>09</td>\n",
       "      <td>45</td>\n",
       "      <td>62119</td>\n",
       "      <td>674661.80202</td>\n",
       "      <td>7048040.28762</td>\n",
       "      <td>01</td>\n",
       "      <td>09</td>\n",
       "      <td>...</td>\n",
       "      <td>8858</td>\n",
       "      <td>10837</td>\n",
       "      <td>12729.62962962963</td>\n",
       "      <td>14623</td>\n",
       "      <td>19225.416666666668</td>\n",
       "      <td>21900.666666666668</td>\n",
       "      <td>25877.33333333333</td>\n",
       "      <td>33081.333333333336</td>\n",
       "      <td>012004000101004</td>\n",
       "      <td>0120040001010040101</td>\n",
       "    </tr>\n",
       "    <tr>\n",
       "      <th>1</th>\n",
       "      <td>1</td>\n",
       "      <td>01200400010100401</td>\n",
       "      <td>62119</td>\n",
       "      <td>09</td>\n",
       "      <td>45</td>\n",
       "      <td>62119</td>\n",
       "      <td>674661.80202</td>\n",
       "      <td>7048040.28762</td>\n",
       "      <td>01</td>\n",
       "      <td>09</td>\n",
       "      <td>...</td>\n",
       "      <td>8858</td>\n",
       "      <td>10837</td>\n",
       "      <td>12729.62962962963</td>\n",
       "      <td>14623</td>\n",
       "      <td>19225.416666666668</td>\n",
       "      <td>21900.666666666668</td>\n",
       "      <td>25877.33333333333</td>\n",
       "      <td>33081.333333333336</td>\n",
       "      <td>012004000101004</td>\n",
       "      <td>0120040001010040101</td>\n",
       "    </tr>\n",
       "    <tr>\n",
       "      <th>2</th>\n",
       "      <td>2</td>\n",
       "      <td>01200400010100401</td>\n",
       "      <td>62119</td>\n",
       "      <td>09</td>\n",
       "      <td>45</td>\n",
       "      <td>62119</td>\n",
       "      <td>674661.80202</td>\n",
       "      <td>7048040.28762</td>\n",
       "      <td>01</td>\n",
       "      <td>09</td>\n",
       "      <td>...</td>\n",
       "      <td>8858</td>\n",
       "      <td>10837</td>\n",
       "      <td>12729.62962962963</td>\n",
       "      <td>14623</td>\n",
       "      <td>19225.416666666668</td>\n",
       "      <td>21900.666666666668</td>\n",
       "      <td>25877.33333333333</td>\n",
       "      <td>33081.333333333336</td>\n",
       "      <td>012004000101004</td>\n",
       "      <td>0120040001010040101</td>\n",
       "    </tr>\n",
       "    <tr>\n",
       "      <th>3</th>\n",
       "      <td>3</td>\n",
       "      <td>01200400010100401</td>\n",
       "      <td>62119</td>\n",
       "      <td>09</td>\n",
       "      <td>45</td>\n",
       "      <td>62119</td>\n",
       "      <td>674661.80202</td>\n",
       "      <td>7048040.28762</td>\n",
       "      <td>01</td>\n",
       "      <td>09</td>\n",
       "      <td>...</td>\n",
       "      <td>8858</td>\n",
       "      <td>10837</td>\n",
       "      <td>12729.62962962963</td>\n",
       "      <td>14623</td>\n",
       "      <td>19225.416666666668</td>\n",
       "      <td>21900.666666666668</td>\n",
       "      <td>25877.33333333333</td>\n",
       "      <td>33081.333333333336</td>\n",
       "      <td>012004000101004</td>\n",
       "      <td>0120040001010040101</td>\n",
       "    </tr>\n",
       "    <tr>\n",
       "      <th>4</th>\n",
       "      <td>4</td>\n",
       "      <td>01200400010100401</td>\n",
       "      <td>62119</td>\n",
       "      <td>09</td>\n",
       "      <td>45</td>\n",
       "      <td>62119</td>\n",
       "      <td>674661.80202</td>\n",
       "      <td>7048040.28762</td>\n",
       "      <td>01</td>\n",
       "      <td>09</td>\n",
       "      <td>...</td>\n",
       "      <td>8858</td>\n",
       "      <td>10837</td>\n",
       "      <td>12729.62962962963</td>\n",
       "      <td>14623</td>\n",
       "      <td>19225.416666666668</td>\n",
       "      <td>21900.666666666668</td>\n",
       "      <td>25877.33333333333</td>\n",
       "      <td>33081.333333333336</td>\n",
       "      <td>012004000101004</td>\n",
       "      <td>0120040001010040101</td>\n",
       "    </tr>\n",
       "    <tr>\n",
       "      <th>...</th>\n",
       "      <td>...</td>\n",
       "      <td>...</td>\n",
       "      <td>...</td>\n",
       "      <td>...</td>\n",
       "      <td>...</td>\n",
       "      <td>...</td>\n",
       "      <td>...</td>\n",
       "      <td>...</td>\n",
       "      <td>...</td>\n",
       "      <td>...</td>\n",
       "      <td>...</td>\n",
       "      <td>...</td>\n",
       "      <td>...</td>\n",
       "      <td>...</td>\n",
       "      <td>...</td>\n",
       "      <td>...</td>\n",
       "      <td>...</td>\n",
       "      <td>...</td>\n",
       "      <td>...</td>\n",
       "      <td>...</td>\n",
       "      <td>...</td>\n",
       "    </tr>\n",
       "    <tr>\n",
       "      <th>12886929</th>\n",
       "      <td>12886929</td>\n",
       "      <td>302014456009094701</td>\n",
       "      <td>80021</td>\n",
       "      <td>16</td>\n",
       "      <td>30</td>\n",
       "      <td>59606</td>\n",
       "      <td>736767.05632</td>\n",
       "      <td>7029166.66083</td>\n",
       "      <td>02</td>\n",
       "      <td>18</td>\n",
       "      <td>...</td>\n",
       "      <td>8911.724137931034</td>\n",
       "      <td>11167.560975609756</td>\n",
       "      <td>13250.5</td>\n",
       "      <td>15356.8</td>\n",
       "      <td>20084</td>\n",
       "      <td>22956</td>\n",
       "      <td>27043.33333333333</td>\n",
       "      <td>34545</td>\n",
       "      <td>3020144560090947</td>\n",
       "      <td>30201445600909470102</td>\n",
       "    </tr>\n",
       "    <tr>\n",
       "      <th>12886930</th>\n",
       "      <td>12886930</td>\n",
       "      <td>302014456009094701</td>\n",
       "      <td>80021</td>\n",
       "      <td>16</td>\n",
       "      <td>30</td>\n",
       "      <td>59606</td>\n",
       "      <td>736767.05632</td>\n",
       "      <td>7029166.66083</td>\n",
       "      <td>02</td>\n",
       "      <td>18</td>\n",
       "      <td>...</td>\n",
       "      <td>8911.724137931034</td>\n",
       "      <td>11167.560975609756</td>\n",
       "      <td>13250.5</td>\n",
       "      <td>15356.8</td>\n",
       "      <td>20084</td>\n",
       "      <td>22956</td>\n",
       "      <td>27043.33333333333</td>\n",
       "      <td>34545</td>\n",
       "      <td>3020144560090947</td>\n",
       "      <td>30201445600909470102</td>\n",
       "    </tr>\n",
       "    <tr>\n",
       "      <th>12886931</th>\n",
       "      <td>12886931</td>\n",
       "      <td>302014456009094701</td>\n",
       "      <td>80021</td>\n",
       "      <td>16</td>\n",
       "      <td>30</td>\n",
       "      <td>59606</td>\n",
       "      <td>736767.05632</td>\n",
       "      <td>7029166.66083</td>\n",
       "      <td>02</td>\n",
       "      <td>18</td>\n",
       "      <td>...</td>\n",
       "      <td>8911.724137931034</td>\n",
       "      <td>11167.560975609756</td>\n",
       "      <td>13250.5</td>\n",
       "      <td>15356.8</td>\n",
       "      <td>20084</td>\n",
       "      <td>22956</td>\n",
       "      <td>27043.33333333333</td>\n",
       "      <td>34545</td>\n",
       "      <td>3020144560090947</td>\n",
       "      <td>30201445600909470102</td>\n",
       "    </tr>\n",
       "    <tr>\n",
       "      <th>12886932</th>\n",
       "      <td>12886932</td>\n",
       "      <td>302014456009094701</td>\n",
       "      <td>80021</td>\n",
       "      <td>16</td>\n",
       "      <td>30</td>\n",
       "      <td>59606</td>\n",
       "      <td>736767.05632</td>\n",
       "      <td>7029166.66083</td>\n",
       "      <td>02</td>\n",
       "      <td>18</td>\n",
       "      <td>...</td>\n",
       "      <td>8911.724137931034</td>\n",
       "      <td>11167.560975609756</td>\n",
       "      <td>13250.5</td>\n",
       "      <td>15356.8</td>\n",
       "      <td>20084</td>\n",
       "      <td>22956</td>\n",
       "      <td>27043.33333333333</td>\n",
       "      <td>34545</td>\n",
       "      <td>3020144560090947</td>\n",
       "      <td>30201445600909470102</td>\n",
       "    </tr>\n",
       "    <tr>\n",
       "      <th>12886933</th>\n",
       "      <td>12886933</td>\n",
       "      <td>302014456009094701</td>\n",
       "      <td>80021</td>\n",
       "      <td>16</td>\n",
       "      <td>30</td>\n",
       "      <td>59606</td>\n",
       "      <td>736767.05632</td>\n",
       "      <td>7029166.66083</td>\n",
       "      <td>02</td>\n",
       "      <td>18</td>\n",
       "      <td>...</td>\n",
       "      <td>8911.724137931034</td>\n",
       "      <td>11167.560975609756</td>\n",
       "      <td>13250.5</td>\n",
       "      <td>15356.8</td>\n",
       "      <td>20084</td>\n",
       "      <td>22956</td>\n",
       "      <td>27043.33333333333</td>\n",
       "      <td>34545</td>\n",
       "      <td>3020144560090947</td>\n",
       "      <td>30201445600909470102</td>\n",
       "    </tr>\n",
       "  </tbody>\n",
       "</table>\n",
       "<p>12886934 rows × 56 columns</p>\n",
       "</div>"
      ],
      "text/plain": [
       "              DECH                PECH    DP2 D4A D4B     D3           D3X  \\\n",
       "0                0   01200400010100401  62119  09  45  62119  674661.80202   \n",
       "1                1   01200400010100401  62119  09  45  62119  674661.80202   \n",
       "2                2   01200400010100401  62119  09  45  62119  674661.80202   \n",
       "3                3   01200400010100401  62119  09  45  62119  674661.80202   \n",
       "4                4   01200400010100401  62119  09  45  62119  674661.80202   \n",
       "...            ...                 ...    ...  ..  ..    ...           ...   \n",
       "12886929  12886929  302014456009094701  80021  16  30  59606  736767.05632   \n",
       "12886930  12886930  302014456009094701  80021  16  30  59606  736767.05632   \n",
       "12886931  12886931  302014456009094701  80021  16  30  59606  736767.05632   \n",
       "12886932  12886932  302014456009094701  80021  16  30  59606  736767.05632   \n",
       "12886933  12886933  302014456009094701  80021  16  30  59606  736767.05632   \n",
       "\n",
       "                    D3Y D2AA D8A  ...               D115                D215  \\\n",
       "0         7048040.28762   01  09  ...               8858               10837   \n",
       "1         7048040.28762   01  09  ...               8858               10837   \n",
       "2         7048040.28762   01  09  ...               8858               10837   \n",
       "3         7048040.28762   01  09  ...               8858               10837   \n",
       "4         7048040.28762   01  09  ...               8858               10837   \n",
       "...                 ...  ...  ..  ...                ...                 ...   \n",
       "12886929  7029166.66083   02  18  ...  8911.724137931034  11167.560975609756   \n",
       "12886930  7029166.66083   02  18  ...  8911.724137931034  11167.560975609756   \n",
       "12886931  7029166.66083   02  18  ...  8911.724137931034  11167.560975609756   \n",
       "12886932  7029166.66083   02  18  ...  8911.724137931034  11167.560975609756   \n",
       "12886933  7029166.66083   02  18  ...  8911.724137931034  11167.560975609756   \n",
       "\n",
       "                       D315     D415                D615                D715  \\\n",
       "0         12729.62962962963    14623  19225.416666666668  21900.666666666668   \n",
       "1         12729.62962962963    14623  19225.416666666668  21900.666666666668   \n",
       "2         12729.62962962963    14623  19225.416666666668  21900.666666666668   \n",
       "3         12729.62962962963    14623  19225.416666666668  21900.666666666668   \n",
       "4         12729.62962962963    14623  19225.416666666668  21900.666666666668   \n",
       "...                     ...      ...                 ...                 ...   \n",
       "12886929            13250.5  15356.8               20084               22956   \n",
       "12886930            13250.5  15356.8               20084               22956   \n",
       "12886931            13250.5  15356.8               20084               22956   \n",
       "12886932            13250.5  15356.8               20084               22956   \n",
       "12886933            13250.5  15356.8               20084               22956   \n",
       "\n",
       "                       D815                D915             ECH_x  \\\n",
       "0         25877.33333333333  33081.333333333336   012004000101004   \n",
       "1         25877.33333333333  33081.333333333336   012004000101004   \n",
       "2         25877.33333333333  33081.333333333336   012004000101004   \n",
       "3         25877.33333333333  33081.333333333336   012004000101004   \n",
       "4         25877.33333333333  33081.333333333336   012004000101004   \n",
       "...                     ...                 ...               ...   \n",
       "12886929  27043.33333333333               34545  3020144560090947   \n",
       "12886930  27043.33333333333               34545  3020144560090947   \n",
       "12886931  27043.33333333333               34545  3020144560090947   \n",
       "12886932  27043.33333333333               34545  3020144560090947   \n",
       "12886933  27043.33333333333               34545  3020144560090947   \n",
       "\n",
       "                   rec_trip_id  \n",
       "0          0120040001010040101  \n",
       "1          0120040001010040101  \n",
       "2          0120040001010040101  \n",
       "3          0120040001010040101  \n",
       "4          0120040001010040101  \n",
       "...                        ...  \n",
       "12886929  30201445600909470102  \n",
       "12886930  30201445600909470102  \n",
       "12886931  30201445600909470102  \n",
       "12886932  30201445600909470102  \n",
       "12886933  30201445600909470102  \n",
       "\n",
       "[12886934 rows x 56 columns]"
      ]
     },
     "execution_count": 62,
     "metadata": {},
     "output_type": "execute_result"
    }
   ],
   "source": [
    "Tr = recovery(T.copy(), \"DECH\", \"COEQ\", \"rec_trip_id\", 1234)\n",
    "Tr.reset_index(drop=True)"
   ]
  },
  {
   "cell_type": "code",
   "execution_count": 64,
   "id": "a24f4b2a",
   "metadata": {},
   "outputs": [],
   "source": [
    "Tr.to_csv(\"tripNpdc_recovered.csv\", sep=\";\", encoding=\"utf8\", index=False)"
   ]
  },
  {
   "cell_type": "code",
   "execution_count": 59,
   "id": "8ef139dd",
   "metadata": {},
   "outputs": [],
   "source": [
    "Tr = pd.read_csv(\"tripNpdc_recovered.csv\", \";\",encoding='utf8', dtype=str) # matrix trips"
   ]
  },
  {
   "cell_type": "code",
   "execution_count": 60,
   "id": "7e29196c",
   "metadata": {},
   "outputs": [],
   "source": [
    "Tcar=Tr[(Tr[\"MODP\"]==\"21\") | (Tr[\"MODP\"]==\"22\") | (Tr[\"MODP\"]==\"61\") | (Tr[\"MODP\"]==\"81\") | (Tr[\"MODP\"]==\"93\") | \n",
    "       (Tr[\"MODP\"]==\"99\")]\n",
    "TcarHdF = Tcar[(Tcar[\"CODEREG_D3\"] == \"32\") & (Tcar[\"CODEREG_D7\"] == \"32\")]"
   ]
  },
  {
   "cell_type": "code",
   "execution_count": 84,
   "id": "5cfbf3b4",
   "metadata": {},
   "outputs": [],
   "source": [
    "# Flows between region\n",
    "Rc = Tr.copy().groupby(['CODEREG_D3','CODEREG_D7'])['DECH'].count().reset_index()\n",
    "# Flows between department\n",
    "Dc = Tr.copy().groupby(['CODEDEPT_D3','CODEDEPT_D7'])['DECH'].count().reset_index()\n",
    "\n",
    "c1 = Dc[\"CODEDEPT_D3\"] == \"59\"\n",
    "c2 = Dc[\"CODEDEPT_D3\"] == \"62\"\n",
    "c3 = Dc[\"CODEDEPT_D3\"] == \"02\"\n",
    "c4 = Dc[\"CODEDEPT_D3\"] == \"60\"\n",
    "c5 = Dc[\"CODEDEPT_D3\"] == \"80\"\n",
    "c6 = (c1) | (c2) | (c3) | (c4) | (c5)\n",
    "\n",
    "d1 = Dc[\"CODEDEPT_D7\"] == \"59\"\n",
    "d2 = Dc[\"CODEDEPT_D7\"] == \"62\"\n",
    "d3 = Dc[\"CODEDEPT_D7\"] == \"02\"\n",
    "d4 = Dc[\"CODEDEPT_D7\"] == \"60\"\n",
    "d5 = Dc[\"CODEDEPT_D7\"] == \"80\"\n",
    "d6 = (d1) | (d2) | (d3) | (d4) | (d5)"
   ]
  },
  {
   "cell_type": "markdown",
   "id": "a546914d",
   "metadata": {},
   "source": [
    "# Flux departements"
   ]
  },
  {
   "cell_type": "code",
   "execution_count": 514,
   "id": "91505500",
   "metadata": {},
   "outputs": [],
   "source": [
    "# car flows in HdF\n",
    "TcarHdF = Tcar[(Tcar[\"CODEREG_D3\"] == \"32\") & (Tcar[\"CODEREG_D7\"] == \"32\")]\n",
    "# ndep\n",
    "df = TcarHdF.copy().groupby(['CODEDEPT_D3','CODEDEPT_D7'])['DECH'].count().unstack(fill_value=0).stack().reset_index()\n",
    "df=df.rename(columns={0:\"DECH\"})\n",
    "df.to_csv(\"/home/ndiop/Documents/phd/scripts/ampl/dept/out/lastfiles/validationbash/input/ndep.csv\", sep=\"\\t\", encoding=\"utf8\", index=False, header=None)\n",
    "# ndep per 10000\n",
    "df10000 = df.copy()\n",
    "df10000[\"DECH\"] = (df10000[\"DECH\"]/10000).astype(int)\n",
    "df10000.to_csv(\"/home/ndiop/Documents/phd/scripts/ampl/dept/out/lastfiles/validationbash/input/ndep10000.csv\", sep=\"\\t\", encoding=\"utf8\", index=False, header=None)"
   ]
  },
  {
   "cell_type": "code",
   "execution_count": 509,
   "id": "0313813d",
   "metadata": {},
   "outputs": [],
   "source": [
    "# keep departments\n",
    "DcarHdF = TcarHdF.copy().groupby(['CODEDEPT_D3','CODEDEPT_D7'])['DECH'].count().reset_index()\n",
    "d3 = DcarHdF[\"CODEDEPT_D3\"]\n",
    "d7 = DcarHdF[\"CODEDEPT_D7\"]\n",
    "d = pd.concat([d3,d7], axis=0, ignore_index=True)\n",
    "d = d.drop_duplicates(keep='first')\n",
    "# zones\n",
    "d.to_csv(\"/home/ndiop/Documents/phd/scripts/ampl/dept/out/lastfiles/validationbash/input/zones.csv\", sep=\"\\t\", encoding=\"utf8\", index=False, header=None)"
   ]
  },
  {
   "cell_type": "code",
   "execution_count": 517,
   "id": "8e57f9a2",
   "metadata": {},
   "outputs": [],
   "source": [
    "#ndep = df10000\n",
    "ndep = df\n",
    "ndepa = ndep[[\"CODEDEPT_D3\",\"DECH\"]]\n",
    "ndepa=ndepa.copy().groupby(['CODEDEPT_D3'])['DECH'].sum().reset_index()\n",
    "ndepb = ndep[[\"CODEDEPT_D7\",\"DECH\"]]\n",
    "ndepb=ndepb.rename(columns={\"CODEDEPT_D7\":\"CODEDEPT_D3\", \"DECH\":\"DECHD7\"})\n",
    "ndepb = ndepb.copy().groupby(['CODEDEPT_D3'])['DECHD7'].sum().reset_index()\n",
    "ndepab = pd.merge(ndepa.copy(), ndepb.copy(), how='left',on =\"CODEDEPT_D3\")\n",
    "ndepab = ndepab.fillna(0)\n",
    "ndepab['sum'] = round((ndepab['DECH'] + ndepab['DECHD7'])/10000)\n",
    "ndepab = ndepab[[\"CODEDEPT_D3\",\"sum\"]]\n",
    "ndepab[\"sum\"][ndepab[\"sum\"] == 0.0] = 1.0\n",
    "ndepab.to_csv(\"/home/ndiop/Documents/phd/scripts/ampl/dept/out/lastfiles/validationbash/input/bornemax.csv\", sep=\"\\t\", encoding=\"utf8\", index=False, header=None)"
   ]
  },
  {
   "cell_type": "code",
   "execution_count": 519,
   "id": "2dfdd029",
   "metadata": {},
   "outputs": [],
   "source": [
    "# nombre de bornes n\n",
    "n=((ndepab[\"sum\"].sum())/10).astype(int)\n",
    "bornes=[i for i in range(n)]\n",
    "bornes=pd.DataFrame(bornes)\n",
    "bornes.to_csv(\"/home/ndiop/Documents/phd/scripts/ampl/dept/out/lastfiles/validationbash/input/bornes.csv\", sep=\"\\t\", encoding=\"utf8\", index=False, header=None)"
   ]
  },
  {
   "cell_type": "code",
   "execution_count": 521,
   "id": "87d8c73d",
   "metadata": {},
   "outputs": [],
   "source": [
    "# distance entre zones\n",
    "df2 = TcarHdF.copy().groupby(['CODEDEPT_D3','CODEDEPT_D7'])['DIST'].mean().unstack(fill_value=0).stack().reset_index()\n",
    "df2=df2.rename(columns={0:\"DIST\"})\n",
    "df2[\"DIST\"] = df2[\"DIST\"].astype(int)\n",
    "df2.to_csv(\"/home/ndiop/Documents/phd/scripts/ampl/dept/out/lastfiles/validationbash/input/distance.csv\", sep=\"\\t\", encoding=\"utf8\", index=False, header=None)"
   ]
  },
  {
   "cell_type": "code",
   "execution_count": null,
   "id": "46951266",
   "metadata": {},
   "outputs": [],
   "source": []
  },
  {
   "cell_type": "markdown",
   "id": "4d01da68",
   "metadata": {},
   "source": [
    "# Flux communauté de communes"
   ]
  },
  {
   "cell_type": "code",
   "execution_count": 54,
   "id": "f87b0530",
   "metadata": {},
   "outputs": [
    {
     "name": "stderr",
     "output_type": "stream",
     "text": [
      "/home/ndiop/anaconda3/lib/python3.8/site-packages/IPython/core/interactiveshell.py:3444: FutureWarning: In a future version of pandas all arguments of read_csv except for the argument 'filepath_or_buffer' will be keyword-only\n",
      "  exec(code_obj, self.user_global_ns, self.user_ns)\n"
     ]
    }
   ],
   "source": [
    "comm=pd.read_csv(\"/home/ndiop/Documents/phd/scripts/demandgeneration2/codes/input_hdf/communesXY.csv\", \",\",encoding='utf8', dtype=str) # matrix trips"
   ]
  },
  {
   "cell_type": "code",
   "execution_count": 10,
   "id": "28675692",
   "metadata": {},
   "outputs": [
    {
     "data": {
      "text/plain": [
       "Index(['DECH', 'PECH', 'DP2', 'D4A', 'D4B', 'D3', 'D3X', 'D3Y', 'D2AA', 'D8A',\n",
       "       'D8B', 'D7', 'D7X', 'D7Y', 'D5AA', 'MODP', 'NDEP', 'SUP_D3', 'SUP_D7',\n",
       "       'CODEDEPT_D3', 'CODEREG_D3', 'CODEDEPT_D7', 'CODEREG_D7', 'MTDQ',\n",
       "       'PTDQ', 'P4', 'P2', 'P5', 'P10', 'M5', 'DOIB', 'DIST', 'D8C', 'D9',\n",
       "       'M6A', 'M6B', 'M6C', 'M6D', 'CODEDEPT_PP2', 'CODEREG_PP2',\n",
       "       'CODEDEPT_DP2', 'CODEREG_DP2', 'Q115', 'Q215', 'Q315', 'Q3_Q1', 'D115',\n",
       "       'D215', 'D315', 'D415', 'D615', 'D715', 'D815', 'D915', 'ECH_x',\n",
       "       'rec_trip_id'],\n",
       "      dtype='object')"
      ]
     },
     "execution_count": 10,
     "metadata": {},
     "output_type": "execute_result"
    }
   ],
   "source": [
    "TcarHdF.columns"
   ]
  },
  {
   "cell_type": "code",
   "execution_count": 11,
   "id": "8ce6ab3c",
   "metadata": {},
   "outputs": [],
   "source": [
    "'''Cette fonction permet de remplacer les codes INSEE par les coordonnées (X et Y), les départements et les communes\n",
    "    Elle renvoie en sortie les nouvelle données avec les coordonnées X et Y, les codes départementaux et communaux\n",
    "    Elle prend comme entrées: data, data_xy et output_file\n",
    "        data est les données avec les code INSEE (déplacement.txt),\n",
    "        data_xy les données de correspondance code INSEE et (X, Y),\n",
    "        output_file est le chemin complet du fichier de sortie\n",
    "'''\n",
    "\n",
    "# Remplacement des codes INSEE par leur correspondance\n",
    "def mapping_codeINSEE_xy(data, data_xy):\n",
    "    #select columns\n",
    "    data_xy.columns =[\"ID_GEOFLA\",\"INSEE_COM\",\"INSEE_CODE\",\"NOM_COMM\",\"STATUT\",\"X_CHF_LIEU\",\"Y_CHF_LIEU\",\"X_CENTROID\",\n",
    "                         \"Y_CENTROID\",\"Z_MOYEN\",\"SUPERFICIE\",\"POPULATION\",\"CODE_CANT\",\"CODE_ARR\",\"CODE_DEPT\",\"NOM_DEPT\",\n",
    "                         \"CODE_REG\",\"NOM_REGION\",\"NUM_D30\",\"NOM_D30\",\"Xcord\",\"Ycord\"]\n",
    "# mapping    \n",
    "    # mapping code INSEE avec commune (nécssaire pour l'anayse des flux : pour les variables PP2, DP2, D3 et D7)\n",
    "    map_com = dict(zip(data_xy.INSEE_CODE, data_xy.NUM_D30))\n",
    "\n",
    "    \n",
    "# création de colonnes  \n",
    "    # créer des colonnes pour CODE_COM\n",
    "    data[\"CODECOM_D3\"]=data[\"D3\"]\n",
    "    data[\"CODECOM_D7\"]=data[\"D7\"]\n",
    "    data[\"CODECOM_DP2\"]=data[\"DP2\"]    \n",
    "        \n",
    "# remplacement    \n",
    "    # remplacer les codes INSEE par les communes\n",
    "    data[[\"CODECOM_D3\"]] = data[[\"CODECOM_D3\"]].applymap(map_com.get)\n",
    "    data[[\"CODECOM_D7\"]] = data[[\"CODECOM_D7\"]].applymap(map_com.get)\n",
    "    data[[\"CODECOM_DP2\"]] = data[[\"CODECOM_DP2\"]].applymap(map_com.get)\n",
    "    \n",
    "    # suppression des données dont les coordonnées X,Y ne figurent pas dans la base ComunesXY.csv ==> travelDiary_hdf\n",
    "    data = data.dropna(subset=[\"CODECOM_D3\",\"CODECOM_D7\"])\n",
    "    \n",
    "    #data[cols].to_csv(output_file,index=None, sep=\";\")\n",
    "    \n",
    "    return data\n"
   ]
  },
  {
   "cell_type": "code",
   "execution_count": 12,
   "id": "3a105f06",
   "metadata": {},
   "outputs": [],
   "source": [
    "TcarHdF1 = mapping_codeINSEE_xy(TcarHdF.copy(),comm)"
   ]
  },
  {
   "cell_type": "code",
   "execution_count": 47,
   "id": "e03ee631",
   "metadata": {},
   "outputs": [],
   "source": [
    "# for qgis analysis\n",
    "origin = TcarHdF1.CODECOM_D3.value_counts()\n",
    "destination = TcarHdF1.CODECOM_D7.value_counts()\n",
    "od = pd.concat([origin,destination], axis=1, ignore_index=True)\n",
    "od['sum'] = od[0] + od[1]\n",
    "od['sum%'] = od[\"sum\"]*100/od[\"sum\"].sum()\n",
    "df2.to_csv(\"/home/ndiop/Documents/phd/scripts/ampl/dept/out/lastfiles/validationbash3/input/od.csv\", sep=\"\\t\", encoding=\"utf8\", index=False)"
   ]
  },
  {
   "cell_type": "code",
   "execution_count": 48,
   "id": "50e361dd",
   "metadata": {},
   "outputs": [],
   "source": [
    "# ndep\n",
    "df = TcarHdF1.copy().groupby(['CODECOM_D3','CODECOM_D7'])['DECH'].count().unstack(fill_value=0).stack().reset_index()\n",
    "df=df.rename(columns={0:\"DECH\"})\n",
    "df.to_csv(\"/home/ndiop/Documents/phd/scripts/ampl/dept/out/lastfiles/validationbash3/input/ndep.csv\", sep=\"\\t\", encoding=\"utf8\", index=False, header=None)\n",
    "# ndep per 10000\n",
    "df10000 = df.copy()\n",
    "df10000[\"DECH\"] = (df10000[\"DECH\"]/10000).astype(int)\n",
    "df10000.to_csv(\"/home/ndiop/Documents/phd/scripts/ampl/dept/out/lastfiles/validationbash3/input/ndep10000.csv\", sep=\"\\t\", encoding=\"utf8\", index=False, header=None)"
   ]
  },
  {
   "cell_type": "code",
   "execution_count": 55,
   "id": "840064f8",
   "metadata": {},
   "outputs": [],
   "source": [
    "# keep communes\n",
    "DcarHdF = df.copy().groupby(['CODECOM_D3','CODECOM_D7'])['DECH'].count().reset_index()\n",
    "d3 = DcarHdF[\"CODECOM_D3\"]\n",
    "d7 = DcarHdF[\"CODECOM_D7\"]\n",
    "d = pd.concat([d3,d7], axis=0, ignore_index=True)\n",
    "d = d.drop_duplicates(keep='first')\n",
    "# zones\n",
    "d.to_csv(\"/home/ndiop/Documents/phd/scripts/ampl/dept/out/lastfiles/validationbash3/input/zones.csv\", sep=\"\\t\", encoding=\"utf8\", index=False, header=None)"
   ]
  },
  {
   "cell_type": "code",
   "execution_count": 64,
   "id": "7c3dc565",
   "metadata": {},
   "outputs": [],
   "source": [
    "#ndep = df10000\n",
    "ndep = df\n",
    "ndepa = ndep[[\"CODECOM_D3\",\"DECH\"]]\n",
    "ndepa=ndepa.copy().groupby(['CODECOM_D3'])['DECH'].sum().reset_index()\n",
    "ndepb = ndep[[\"CODECOM_D7\",\"DECH\"]]\n",
    "ndepb=ndepb.rename(columns={\"CODECOM_D7\":\"CODECOM_D3\", \"DECH\":\"DECHD7\"})\n",
    "ndepb = ndepb.copy().groupby(['CODECOM_D3'])['DECHD7'].sum().reset_index()\n",
    "ndepab = pd.merge(ndepa.copy(), ndepb.copy(), how='left',on =\"CODECOM_D3\")\n",
    "ndepab = ndepab.fillna(0)\n",
    "ndepab['sum'] = round((ndepab['DECH'] + ndepab['DECHD7'])/10000)\n",
    "ndepab = ndepab[[\"CODECOM_D3\",\"sum\"]]\n",
    "ndepab[\"sum\"][ndepab[\"sum\"] == 0.0] = 1.0\n",
    "ndepab.to_csv(\"/home/ndiop/Documents/phd/scripts/ampl/dept/out/lastfiles/validationbash3/input/bornemax.csv\", sep=\"\\t\", encoding=\"utf8\", index=False, header=None)"
   ]
  },
  {
   "cell_type": "code",
   "execution_count": 66,
   "id": "806c755a",
   "metadata": {},
   "outputs": [],
   "source": [
    "# nombre de bornes n\n",
    "n=((ndepab[\"sum\"].sum())/10).astype(int)\n",
    "bornes=[i for i in range(n)]\n",
    "bornes=pd.DataFrame(bornes)\n",
    "bornes.to_csv(\"/home/ndiop/Documents/phd/scripts/ampl/dept/out/lastfiles/validationbash3/input/bornes.csv\", sep=\"\\t\", encoding=\"utf8\", index=False, header=None)"
   ]
  },
  {
   "cell_type": "code",
   "execution_count": 13,
   "id": "d89466b0",
   "metadata": {},
   "outputs": [],
   "source": [
    "# distance entre zones\n",
    "TcarHdF1['DIST'] = TcarHdF1['DIST'].astype(float)\n",
    "df2 = TcarHdF1.copy().groupby(['CODECOM_D3','CODECOM_D7'])['DIST'].mean().unstack(fill_value=0).stack().reset_index()\n",
    "df2=df2.rename(columns={0:\"DIST\"})\n",
    "df2[\"DIST\"] = df2[\"DIST\"].astype(int)\n",
    "df2.to_csv(\"/home/ndiop/Documents/phd/scripts/ampl/dept/out/lastfiles/validationbash3/input/distance.csv\", sep=\"\\t\", encoding=\"utf8\", index=False, header=None)"
   ]
  },
  {
   "cell_type": "code",
   "execution_count": null,
   "id": "fb2008eb",
   "metadata": {},
   "outputs": [],
   "source": []
  },
  {
   "cell_type": "markdown",
   "id": "6e628a46",
   "metadata": {},
   "source": [
    "# Flux communes"
   ]
  },
  {
   "cell_type": "code",
   "execution_count": 61,
   "id": "2d0b7887",
   "metadata": {},
   "outputs": [],
   "source": [
    "# car flows in HdF\n",
    "TcarHdF = Tcar[(Tcar[\"CODEREG_D3\"] == \"32\") & (Tcar[\"CODEREG_D7\"] == \"32\")]"
   ]
  },
  {
   "cell_type": "code",
   "execution_count": 62,
   "id": "cfcd61a1",
   "metadata": {},
   "outputs": [
    {
     "data": {
      "text/plain": [
       "1786"
      ]
     },
     "execution_count": 62,
     "metadata": {},
     "output_type": "execute_result"
    }
   ],
   "source": [
    "len(TcarHdF[\"D3\"].unique())"
   ]
  },
  {
   "cell_type": "code",
   "execution_count": 63,
   "id": "24b53ae4",
   "metadata": {},
   "outputs": [
    {
     "data": {
      "text/plain": [
       "1791"
      ]
     },
     "execution_count": 63,
     "metadata": {},
     "output_type": "execute_result"
    }
   ],
   "source": [
    "len(TcarHdF[\"D7\"].unique())"
   ]
  },
  {
   "cell_type": "code",
   "execution_count": 64,
   "id": "c3037977",
   "metadata": {},
   "outputs": [
    {
     "name": "stdout",
     "output_type": "stream",
     "text": [
      "['60537', '60509', '80622', '80670', '80733', '02720', '02158', '02109', '02833', '02013', '80122', '80328', '02709', '80220', '02359', '02006', '02647', '02760', '02494', '02079', '02264', '02418', '02278', '02481', '02100', '02237', '02758', '60139', '60647', '60533', '02810', '80167', '80810', '80714', '80444', '80166', '80316', '80351', '80092', '80585', '80802', '80741', '80417', '80302']\n"
     ]
    }
   ],
   "source": [
    "TcarHdF2 = TcarHdF.copy()\n",
    "d3 = TcarHdF2[\"D3\"]\n",
    "d7 = TcarHdF2[\"D7\"]\n",
    "d3a = d3.unique()\n",
    "d7a = d7.unique()\n",
    "d3a=list(d3a)\n",
    "d7a=list(d7a)\n",
    "list_difference = []\n",
    "for item in d3a:\n",
    "  if item not in d7a:\n",
    "    list_difference.append(item)\n",
    "print(list_difference)"
   ]
  },
  {
   "cell_type": "code",
   "execution_count": 65,
   "id": "fd6e3bfe",
   "metadata": {},
   "outputs": [],
   "source": [
    "TcarHdF3 = TcarHdF2.copy()[~TcarHdF2.copy()['D3'].isin(list_difference)]"
   ]
  },
  {
   "cell_type": "code",
   "execution_count": 66,
   "id": "dc20076d",
   "metadata": {},
   "outputs": [
    {
     "data": {
      "text/plain": [
       "1742"
      ]
     },
     "execution_count": 66,
     "metadata": {},
     "output_type": "execute_result"
    }
   ],
   "source": [
    "len(TcarHdF3[\"D3\"].unique())"
   ]
  },
  {
   "cell_type": "code",
   "execution_count": 67,
   "id": "31470349",
   "metadata": {},
   "outputs": [
    {
     "name": "stdout",
     "output_type": "stream",
     "text": [
      "['80373', '80129', '80211', '80057', '02231', '59277', '80801', '02067', '62664', '80115', '02785', '02199', '80359', '02319', '02658', '02659', '02757', '02313', '02469', '02668', '02040', '02286', '02357', '02400', '02419', '02775', '02738', '02180', '02091', '02294', '60141', '60074', '60175', '60338', '60600', '60665', '60025', '60145', '80008', '80440', '80765', '80526', '80155', '80550', '80020', '80752', '80164', '80521', '80070']\n"
     ]
    }
   ],
   "source": [
    "TcarHdF4 = TcarHdF3.copy()\n",
    "d3 = TcarHdF4[\"D3\"]\n",
    "d7 = TcarHdF4[\"D7\"]\n",
    "d3a = d3.unique()\n",
    "d7a = d7.unique()\n",
    "d3a=list(d3a)\n",
    "d7a=list(d7a)\n",
    "list_difference2 = []\n",
    "for item in d7a:\n",
    "  if item not in d3a:\n",
    "    list_difference2.append(item)\n",
    "print(list_difference2)"
   ]
  },
  {
   "cell_type": "code",
   "execution_count": 68,
   "id": "df23bb09",
   "metadata": {},
   "outputs": [],
   "source": [
    "TcarHdF5 = TcarHdF4.copy()[~TcarHdF4.copy()['D7'].isin(list_difference2)]"
   ]
  },
  {
   "cell_type": "code",
   "execution_count": 69,
   "id": "7b3983d6",
   "metadata": {},
   "outputs": [
    {
     "data": {
      "text/plain": [
       "1742"
      ]
     },
     "execution_count": 69,
     "metadata": {},
     "output_type": "execute_result"
    }
   ],
   "source": [
    "len(TcarHdF5[\"D7\"].unique())"
   ]
  },
  {
   "cell_type": "code",
   "execution_count": 16,
   "id": "9e1a35fa",
   "metadata": {},
   "outputs": [],
   "source": [
    "TcarHdF5.to_csv(\"tripNpdcCar_recovered.csv\", sep=\";\", encoding=\"utf8\", index=False)"
   ]
  },
  {
   "cell_type": "code",
   "execution_count": 3,
   "id": "97cbd1b3",
   "metadata": {},
   "outputs": [
    {
     "name": "stderr",
     "output_type": "stream",
     "text": [
      "/home/ndiop/anaconda3/lib/python3.8/site-packages/IPython/core/interactiveshell.py:3444: FutureWarning: In a future version of pandas all arguments of read_csv except for the argument 'filepath_or_buffer' will be keyword-only\n",
      "  exec(code_obj, self.user_global_ns, self.user_ns)\n"
     ]
    }
   ],
   "source": [
    "TcarHdF5 = pd.read_csv(\"tripNpdcCar_recovered.csv\", \";\",encoding='utf8', dtype=str) # matrix trips"
   ]
  },
  {
   "cell_type": "code",
   "execution_count": 70,
   "id": "9568d63c",
   "metadata": {},
   "outputs": [],
   "source": [
    "# ndep\n",
    "dfi = TcarHdF5.copy().groupby(['D3','D7'])['DECH'].count().unstack(fill_value=0).stack().reset_index()\n",
    "dfi=dfi.rename(columns={0:\"DECH\"})\n",
    "dfi.to_csv(\"/home/ndiop/Documents/phd/scripts/ampl/dept/out/lastfiles/validationbash2/input/ndep.csv\", sep=\"\\t\", encoding=\"utf8\", index=False, header=None)\n",
    "# ndep per 10000\n",
    "dfi10000 = dfi.copy()\n",
    "dfi10000[\"DECH\"] = (dfi10000[\"DECH\"]/10000).astype(int)\n",
    "dfi10000.to_csv(\"/home/ndiop/Documents/phd/scripts/ampl/dept/out/lastfiles/validationbash2/input/ndep10000.csv\", sep=\"\\t\", encoding=\"utf8\", index=False, header=None)"
   ]
  },
  {
   "cell_type": "code",
   "execution_count": 74,
   "id": "402e598a",
   "metadata": {},
   "outputs": [],
   "source": [
    "# keep communes\n",
    "DcarHdF = dfi.copy().groupby(['D3','D7'])['DECH'].count().reset_index()\n",
    "d3 = DcarHdF[\"D3\"]\n",
    "d7 = DcarHdF[\"D7\"]\n",
    "d = pd.concat([d3,d7], axis=0, ignore_index=True)\n",
    "d = d.drop_duplicates(keep='first')\n",
    "# zones\n",
    "d.to_csv(\"/home/ndiop/Documents/phd/scripts/ampl/dept/out/lastfiles/validationbash2/input/zones.csv\", sep=\"\\t\", encoding=\"utf8\", index=False, header=None)"
   ]
  },
  {
   "cell_type": "code",
   "execution_count": 76,
   "id": "48666326",
   "metadata": {},
   "outputs": [],
   "source": [
    "# nombre de bornes maximales par communes\n",
    "#ndep = df10000\n",
    "ndep = dfi\n",
    "ndepa = ndep[[\"D3\",\"DECH\"]]\n",
    "ndepa=ndepa.copy().groupby(['D3'])['DECH'].sum().reset_index()\n",
    "ndepb = ndep[[\"D7\",\"DECH\"]]\n",
    "ndepb=ndepb.rename(columns={\"D7\":\"D3\", \"DECH\":\"DECHD7\"})\n",
    "ndepb = ndepb.copy().groupby(['D3'])['DECHD7'].sum().reset_index()\n",
    "ndepab = pd.merge(ndepa.copy(), ndepb.copy(), how='left',on =\"D3\")\n",
    "ndepab = ndepab.fillna(0)\n",
    "ndepab['sum'] = round((ndepab['DECH'] + ndepab['DECHD7'])/8000) # to defined for realistic number of stations:8000\n",
    "ndepab = ndepab[[\"D3\",\"sum\"]]\n",
    "ndepab[\"sum\"][ndepab[\"sum\"] == 0.0] = 1.0\n",
    "ndepab.to_csv(\"/home/ndiop/Documents/phd/scripts/ampl/dept/out/lastfiles/validationbash2/input/bornemax.csv\", sep=\"\\t\", encoding=\"utf8\", index=False, header=None)"
   ]
  },
  {
   "cell_type": "code",
   "execution_count": 21,
   "id": "5ce92f27",
   "metadata": {},
   "outputs": [
    {
     "data": {
      "text/plain": [
       "3190.0"
      ]
     },
     "execution_count": 21,
     "metadata": {},
     "output_type": "execute_result"
    }
   ],
   "source": [
    "ndepab[\"sum\"].sum()"
   ]
  },
  {
   "cell_type": "code",
   "execution_count": 22,
   "id": "55f2e433",
   "metadata": {},
   "outputs": [],
   "source": [
    "# nombre de bornes n\n",
    "n=((ndepab[\"sum\"].sum())/10).astype(int)\n",
    "bornes=[i for i in range(n)]\n",
    "bornes=pd.DataFrame(bornes)\n",
    "bornes.to_csv(\"/home/ndiop/Documents/phd/scripts/ampl/dept/out/lastfiles/validationbash2/input/bornes.csv\", sep=\"\\t\", encoding=\"utf8\", index=False, header=None)"
   ]
  },
  {
   "cell_type": "code",
   "execution_count": 4,
   "id": "0ddc6057",
   "metadata": {},
   "outputs": [],
   "source": [
    "# distance entre zones\n",
    "TcarHdF5['DIST'] = TcarHdF5['DIST'].astype(float)\n",
    "df2 = TcarHdF5.copy().groupby(['D3','D7'])['DIST'].mean().unstack(fill_value=0).stack().reset_index()\n",
    "df2=df2.rename(columns={0:\"DIST\"})\n",
    "df2[\"DIST\"] = df2[\"DIST\"].astype(int)\n",
    "df2.to_csv(\"/home/ndiop/Documents/phd/scripts/ampl/dept/out/lastfiles/validationbash2/input/distance.csv\", sep=\"\\t\", encoding=\"utf8\", index=False, header=None)"
   ]
  },
  {
   "cell_type": "code",
   "execution_count": 52,
   "id": "8980b9f2",
   "metadata": {},
   "outputs": [],
   "source": []
  },
  {
   "cell_type": "code",
   "execution_count": 7,
   "id": "2ccdd225",
   "metadata": {},
   "outputs": [],
   "source": [
    "# Other method\n",
    "def SummarizeTrip(df):\n",
    "    df2=pd.DataFrame()\n",
    "    df2[\"D3\"]=\"\"\n",
    "    df2[\"D7\"]=\"\"\n",
    "    df2[\"NBR\"]=\"\"\n",
    "    df2[\"DURMOY\"]=\"\"\n",
    "    df2[\"DISTMOY\"]=\"\"\n",
    "    n = len(df)\n",
    "    k=0\n",
    "    while(n>0):\n",
    "        a = (df[\"D3\"]==df.loc[0,\"D3\"]) & (df[\"D7\"]==df.loc[0,\"D7\"])\n",
    "        dfi=df[a]     #recuperer les lignes contenant le D3 et le D7 courant (i)\n",
    "        Ind = dfi.index.values\n",
    "        dfi.reset_index(drop=True, inplace=True)\n",
    "        df2.loc[k,\"NBR\"]= len(dfi)\n",
    "        df2.loc[k,\"DURMOY\"]= (dfi[\"D8C\"]).astype(float).mean()  \n",
    "        df2.loc[k,\"DISTMOY\"]= (dfi[\"DIST\"]).astype(float).mean()  \n",
    "        df2.loc[k,\"D3\"]= dfi.loc[0,\"D3\"] \n",
    "        df2.loc[k,\"D7\"]= dfi.loc[0,\"D7\"] \n",
    "        df.drop(Ind, inplace=True)\n",
    "        df.reset_index(drop=True,inplace=True)\n",
    "        n = len(df)\n",
    "        print(k,n)\n",
    "        k=k+1\n",
    "    return df2\n",
    "Mcar = SummarizeTrip(Tcar.copy())"
   ]
  },
  {
   "cell_type": "code",
   "execution_count": null,
   "id": "f9e1440c",
   "metadata": {},
   "outputs": [],
   "source": []
  },
  {
   "cell_type": "markdown",
   "id": "c87b5d83",
   "metadata": {},
   "source": [
    "# Evaluation charging optimisation"
   ]
  },
  {
   "cell_type": "code",
   "execution_count": 140,
   "id": "40b338f9",
   "metadata": {},
   "outputs": [
    {
     "name": "stderr",
     "output_type": "stream",
     "text": [
      "/home/ndiop/anaconda3/lib/python3.8/site-packages/IPython/core/interactiveshell.py:3444: FutureWarning: In a future version of pandas all arguments of read_csv except for the argument 'filepath_or_buffer' will be keyword-only\n",
      "  exec(code_obj, self.user_global_ns, self.user_ns)\n"
     ]
    }
   ],
   "source": [
    "B=pd.read_csv(\"/home/ndiop/Documents/phd/scripts/ampl/dept/out/lastfiles/validationbash3/outputAMPL/out1000bornes/bornesactivee.csv\", \";\",encoding='utf8') # matrix trips"
   ]
  },
  {
   "cell_type": "code",
   "execution_count": 142,
   "id": "563a173d",
   "metadata": {},
   "outputs": [],
   "source": [
    "B1=B[0:171]\n",
    "B2=B[171:343]"
   ]
  },
  {
   "cell_type": "code",
   "execution_count": 145,
   "id": "099bf781",
   "metadata": {},
   "outputs": [],
   "source": [
    "B1.to_csv(\"/home/ndiop/Documents/phd/scripts/ampl/dept/out/lastfiles/validationbash3/outputAMPL/out1000bornes/b1.csv\", sep=\";\", encoding=\"utf8\", index=False, header=True)\n",
    "B2.to_csv(\"/home/ndiop/Documents/phd/scripts/ampl/dept/out/lastfiles/validationbash3/outputAMPL/out1000bornes/b2.csv\", sep=\";\", encoding=\"utf8\", index=False, header=False)"
   ]
  },
  {
   "cell_type": "code",
   "execution_count": 214,
   "id": "ec9b37e8",
   "metadata": {},
   "outputs": [
    {
     "name": "stderr",
     "output_type": "stream",
     "text": [
      "/home/ndiop/anaconda3/lib/python3.8/site-packages/IPython/core/interactiveshell.py:3444: FutureWarning: In a future version of pandas all arguments of read_csv except for the argument 'filepath_or_buffer' will be keyword-only\n",
      "  exec(code_obj, self.user_global_ns, self.user_ns)\n"
     ]
    }
   ],
   "source": [
    "B1=pd.read_csv(\"/home/ndiop/Documents/phd/scripts/ampl/dept/out/lastfiles/validationbash3/outputAMPL/out1000bornes/b1.csv\", \";\",encoding='utf8') # matrix trips\n",
    "B2=pd.read_csv(\"/home/ndiop/Documents/phd/scripts/ampl/dept/out/lastfiles/validationbash3/outputAMPL/out1000bornes/b2.csv\", \";\",encoding='utf8') # matrix trips"
   ]
  },
  {
   "cell_type": "code",
   "execution_count": 216,
   "id": "919cd908",
   "metadata": {},
   "outputs": [
    {
     "name": "stderr",
     "output_type": "stream",
     "text": [
      "/tmp/ipykernel_8162/963268992.py:1: FutureWarning: In a future version of pandas all arguments of DataFrame.drop except for the argument 'labels' will be keyword-only\n",
      "  B2.drop(['Unnamed: 16', 'Unnamed: 17', 'Unnamed: 18', 'Unnamed: 19'],1,inplace=True)\n"
     ]
    }
   ],
   "source": [
    "B2.drop(['Unnamed: 16', 'Unnamed: 17', 'Unnamed: 18', 'Unnamed: 19'],1,inplace=True)"
   ]
  },
  {
   "cell_type": "code",
   "execution_count": 220,
   "id": "bee8c986",
   "metadata": {},
   "outputs": [],
   "source": [
    "B2=B2.rename(columns={\"B2\":\"B1\"})"
   ]
  },
  {
   "cell_type": "code",
   "execution_count": 221,
   "id": "970df5e5",
   "metadata": {},
   "outputs": [],
   "source": [
    "bb = pd.merge(B1.copy(), B2.copy(), how='left',on =\"B1\")"
   ]
  },
  {
   "cell_type": "code",
   "execution_count": 222,
   "id": "80054e67",
   "metadata": {},
   "outputs": [
    {
     "name": "stderr",
     "output_type": "stream",
     "text": [
      "/tmp/ipykernel_8162/191660896.py:1: FutureWarning: In a future version of pandas all arguments of DataFrame.drop except for the argument 'labels' will be keyword-only\n",
      "  bb.drop(\"B1\",1,inplace=True)\n"
     ]
    }
   ],
   "source": [
    "bb.drop(\"B1\",1,inplace=True)"
   ]
  },
  {
   "cell_type": "code",
   "execution_count": 329,
   "id": "66bedad1",
   "metadata": {},
   "outputs": [
    {
     "name": "stderr",
     "output_type": "stream",
     "text": [
      "/tmp/ipykernel_8162/3964731535.py:2: FutureWarning: The pandas.np module is deprecated and will be removed from pandas in a future version. Import numpy directly instead\n",
      "  bb1.loc['total'] = bb1.select_dtypes(pd.np.number).sum()\n"
     ]
    }
   ],
   "source": [
    "bb1 = bb.copy() \n",
    "bb1.loc['total'] = bb1.select_dtypes(pd.np.number).sum()"
   ]
  },
  {
   "cell_type": "code",
   "execution_count": 330,
   "id": "5be248ac",
   "metadata": {},
   "outputs": [],
   "source": [
    "Br = bb1.iloc[[-1]]"
   ]
  },
  {
   "cell_type": "code",
   "execution_count": 331,
   "id": "65f7bc44",
   "metadata": {},
   "outputs": [],
   "source": [
    "Bp = Br.T"
   ]
  },
  {
   "cell_type": "code",
   "execution_count": 332,
   "id": "2a119f59",
   "metadata": {},
   "outputs": [],
   "source": [
    "Bp = Bp.rename_axis('D30b', axis=1)"
   ]
  },
  {
   "cell_type": "code",
   "execution_count": 335,
   "id": "9501bf06",
   "metadata": {},
   "outputs": [],
   "source": [
    "Bp.to_csv(\"/home/ndiop/Documents/phd/scripts/ampl/dept/out/lastfiles/validationbash3/outputAMPL/out1000bornes/bp1.csv\", sep=\";\", encoding=\"utf8\", index=True, header=True)"
   ]
  },
  {
   "cell_type": "code",
   "execution_count": 336,
   "id": "1367bd50",
   "metadata": {},
   "outputs": [
    {
     "name": "stderr",
     "output_type": "stream",
     "text": [
      "/home/ndiop/anaconda3/lib/python3.8/site-packages/IPython/core/interactiveshell.py:3444: FutureWarning: In a future version of pandas all arguments of read_csv except for the argument 'filepath_or_buffer' will be keyword-only\n",
      "  exec(code_obj, self.user_global_ns, self.user_ns)\n"
     ]
    }
   ],
   "source": [
    "Bp=pd.read_csv(\"/home/ndiop/Documents/phd/scripts/ampl/dept/out/lastfiles/validationbash3/outputAMPL/out1000bornes/bp1.csv\", \";\",encoding='utf8') # matrix trips"
   ]
  },
  {
   "cell_type": "code",
   "execution_count": 338,
   "id": "700934e4",
   "metadata": {},
   "outputs": [],
   "source": [
    "Bp=Bp.rename(columns={\"Unnamed: 0\":\"D30b\"})"
   ]
  },
  {
   "cell_type": "code",
   "execution_count": 340,
   "id": "53f6895d",
   "metadata": {},
   "outputs": [
    {
     "name": "stderr",
     "output_type": "stream",
     "text": [
      "/home/ndiop/anaconda3/lib/python3.8/site-packages/IPython/core/interactiveshell.py:3444: FutureWarning: In a future version of pandas all arguments of read_csv except for the argument 'filepath_or_buffer' will be keyword-only\n",
      "  exec(code_obj, self.user_global_ns, self.user_ns)\n"
     ]
    }
   ],
   "source": [
    "D30HdF=pd.read_csv(\"/home/ndiop/Documents/phd/visualisation/EMD_HdF_2018/tmp/d30HDF.csv\", \",\",encoding='utf8', dtype=\"str\") "
   ]
  },
  {
   "cell_type": "code",
   "execution_count": 346,
   "id": "35ff419b",
   "metadata": {},
   "outputs": [],
   "source": [
    "Bp1 = pd.concat([Bp.copy(),D30HdF.copy()], axis=1, ignore_index=False)"
   ]
  },
  {
   "cell_type": "code",
   "execution_count": 349,
   "id": "d32cfc6d",
   "metadata": {},
   "outputs": [],
   "source": [
    "Bp1.to_csv(\"/home/ndiop/Documents/phd/scripts/ampl/dept/out/lastfiles/validationbash3/outputAMPL/out1000bornes/bornesD30HDF.csv\", sep=\";\", encoding=\"utf8\", index=True, header=True)"
   ]
  },
  {
   "cell_type": "code",
   "execution_count": 350,
   "id": "51f88950",
   "metadata": {},
   "outputs": [
    {
     "data": {
      "text/html": [
       "<div>\n",
       "<style scoped>\n",
       "    .dataframe tbody tr th:only-of-type {\n",
       "        vertical-align: middle;\n",
       "    }\n",
       "\n",
       "    .dataframe tbody tr th {\n",
       "        vertical-align: top;\n",
       "    }\n",
       "\n",
       "    .dataframe thead th {\n",
       "        text-align: right;\n",
       "    }\n",
       "</style>\n",
       "<table border=\"1\" class=\"dataframe\">\n",
       "  <thead>\n",
       "    <tr style=\"text-align: right;\">\n",
       "      <th></th>\n",
       "      <th>D30b</th>\n",
       "      <th>total</th>\n",
       "      <th>NUM_D30</th>\n",
       "      <th>NOM_D30</th>\n",
       "    </tr>\n",
       "  </thead>\n",
       "  <tbody>\n",
       "    <tr>\n",
       "      <th>0</th>\n",
       "      <td>1</td>\n",
       "      <td>0.0</td>\n",
       "      <td>001</td>\n",
       "      <td>Sud de l'Aisne</td>\n",
       "    </tr>\n",
       "    <tr>\n",
       "      <th>1</th>\n",
       "      <td>2</td>\n",
       "      <td>0.0</td>\n",
       "      <td>002</td>\n",
       "      <td>Saint-Quentinois</td>\n",
       "    </tr>\n",
       "    <tr>\n",
       "      <th>2</th>\n",
       "      <td>3</td>\n",
       "      <td>0.0</td>\n",
       "      <td>003</td>\n",
       "      <td>Laonnois</td>\n",
       "    </tr>\n",
       "    <tr>\n",
       "      <th>3</th>\n",
       "      <td>4</td>\n",
       "      <td>0.0</td>\n",
       "      <td>004</td>\n",
       "      <td>Soissonnais</td>\n",
       "    </tr>\n",
       "    <tr>\n",
       "      <th>4</th>\n",
       "      <td>5</td>\n",
       "      <td>0.0</td>\n",
       "      <td>005</td>\n",
       "      <td>Thiérache</td>\n",
       "    </tr>\n",
       "    <tr>\n",
       "      <th>5</th>\n",
       "      <td>6</td>\n",
       "      <td>0.0</td>\n",
       "      <td>006</td>\n",
       "      <td>Chaunois</td>\n",
       "    </tr>\n",
       "    <tr>\n",
       "      <th>6</th>\n",
       "      <td>7</td>\n",
       "      <td>0.0</td>\n",
       "      <td>007</td>\n",
       "      <td>Cambrésis</td>\n",
       "    </tr>\n",
       "    <tr>\n",
       "      <th>7</th>\n",
       "      <td>8</td>\n",
       "      <td>107.0</td>\n",
       "      <td>008</td>\n",
       "      <td>Valenciennois</td>\n",
       "    </tr>\n",
       "    <tr>\n",
       "      <th>8</th>\n",
       "      <td>9</td>\n",
       "      <td>0.0</td>\n",
       "      <td>009</td>\n",
       "      <td>Douaisis</td>\n",
       "    </tr>\n",
       "    <tr>\n",
       "      <th>9</th>\n",
       "      <td>10</td>\n",
       "      <td>92.0</td>\n",
       "      <td>010</td>\n",
       "      <td>Sambre-Avesnois</td>\n",
       "    </tr>\n",
       "    <tr>\n",
       "      <th>10</th>\n",
       "      <td>11</td>\n",
       "      <td>34.0</td>\n",
       "      <td>011</td>\n",
       "      <td>Flandre</td>\n",
       "    </tr>\n",
       "    <tr>\n",
       "      <th>11</th>\n",
       "      <td>12</td>\n",
       "      <td>137.0</td>\n",
       "      <td>012</td>\n",
       "      <td>Lille</td>\n",
       "    </tr>\n",
       "    <tr>\n",
       "      <th>12</th>\n",
       "      <td>13</td>\n",
       "      <td>127.0</td>\n",
       "      <td>013</td>\n",
       "      <td>MEL</td>\n",
       "    </tr>\n",
       "    <tr>\n",
       "      <th>13</th>\n",
       "      <td>14</td>\n",
       "      <td>89.0</td>\n",
       "      <td>014</td>\n",
       "      <td>Roubaix-Tourcoing</td>\n",
       "    </tr>\n",
       "    <tr>\n",
       "      <th>14</th>\n",
       "      <td>15</td>\n",
       "      <td>111.0</td>\n",
       "      <td>015</td>\n",
       "      <td>Dunkerquois</td>\n",
       "    </tr>\n",
       "    <tr>\n",
       "      <th>15</th>\n",
       "      <td>16</td>\n",
       "      <td>0.0</td>\n",
       "      <td>016</td>\n",
       "      <td>Creillois</td>\n",
       "    </tr>\n",
       "    <tr>\n",
       "      <th>16</th>\n",
       "      <td>17</td>\n",
       "      <td>0.0</td>\n",
       "      <td>017</td>\n",
       "      <td>Compiégnois</td>\n",
       "    </tr>\n",
       "    <tr>\n",
       "      <th>17</th>\n",
       "      <td>18</td>\n",
       "      <td>0.0</td>\n",
       "      <td>018</td>\n",
       "      <td>Beauvaisis</td>\n",
       "    </tr>\n",
       "    <tr>\n",
       "      <th>18</th>\n",
       "      <td>19</td>\n",
       "      <td>0.0</td>\n",
       "      <td>019</td>\n",
       "      <td>Sud de l'Oise</td>\n",
       "    </tr>\n",
       "    <tr>\n",
       "      <th>19</th>\n",
       "      <td>20</td>\n",
       "      <td>0.0</td>\n",
       "      <td>020</td>\n",
       "      <td>Noyonnais</td>\n",
       "    </tr>\n",
       "    <tr>\n",
       "      <th>20</th>\n",
       "      <td>21</td>\n",
       "      <td>0.0</td>\n",
       "      <td>021</td>\n",
       "      <td>Thelle Vexin Sablons</td>\n",
       "    </tr>\n",
       "    <tr>\n",
       "      <th>21</th>\n",
       "      <td>22</td>\n",
       "      <td>0.0</td>\n",
       "      <td>022</td>\n",
       "      <td>Clermontois</td>\n",
       "    </tr>\n",
       "    <tr>\n",
       "      <th>22</th>\n",
       "      <td>23</td>\n",
       "      <td>0.0</td>\n",
       "      <td>023</td>\n",
       "      <td>Montreuillois</td>\n",
       "    </tr>\n",
       "    <tr>\n",
       "      <th>23</th>\n",
       "      <td>24</td>\n",
       "      <td>124.0</td>\n",
       "      <td>024</td>\n",
       "      <td>Béthunois</td>\n",
       "    </tr>\n",
       "    <tr>\n",
       "      <th>24</th>\n",
       "      <td>25</td>\n",
       "      <td>148.0</td>\n",
       "      <td>025</td>\n",
       "      <td>Artois</td>\n",
       "    </tr>\n",
       "    <tr>\n",
       "      <th>25</th>\n",
       "      <td>26</td>\n",
       "      <td>0.0</td>\n",
       "      <td>026</td>\n",
       "      <td>Audomarois</td>\n",
       "    </tr>\n",
       "    <tr>\n",
       "      <th>26</th>\n",
       "      <td>27</td>\n",
       "      <td>0.0</td>\n",
       "      <td>027</td>\n",
       "      <td>Boulonnais</td>\n",
       "    </tr>\n",
       "    <tr>\n",
       "      <th>27</th>\n",
       "      <td>28</td>\n",
       "      <td>0.0</td>\n",
       "      <td>028</td>\n",
       "      <td>Calaisis</td>\n",
       "    </tr>\n",
       "    <tr>\n",
       "      <th>28</th>\n",
       "      <td>29</td>\n",
       "      <td>31.0</td>\n",
       "      <td>029</td>\n",
       "      <td>Arrageois</td>\n",
       "    </tr>\n",
       "    <tr>\n",
       "      <th>29</th>\n",
       "      <td>30</td>\n",
       "      <td>0.0</td>\n",
       "      <td>030</td>\n",
       "      <td>Arras</td>\n",
       "    </tr>\n",
       "    <tr>\n",
       "      <th>30</th>\n",
       "      <td>31</td>\n",
       "      <td>0.0</td>\n",
       "      <td>031</td>\n",
       "      <td>Amiénois</td>\n",
       "    </tr>\n",
       "    <tr>\n",
       "      <th>31</th>\n",
       "      <td>32</td>\n",
       "      <td>0.0</td>\n",
       "      <td>032</td>\n",
       "      <td>Amiens</td>\n",
       "    </tr>\n",
       "    <tr>\n",
       "      <th>32</th>\n",
       "      <td>33</td>\n",
       "      <td>0.0</td>\n",
       "      <td>033</td>\n",
       "      <td>Picardie Maritime</td>\n",
       "    </tr>\n",
       "    <tr>\n",
       "      <th>33</th>\n",
       "      <td>34</td>\n",
       "      <td>0.0</td>\n",
       "      <td>034</td>\n",
       "      <td>Santerre</td>\n",
       "    </tr>\n",
       "  </tbody>\n",
       "</table>\n",
       "</div>"
      ],
      "text/plain": [
       "    D30b  total NUM_D30               NOM_D30\n",
       "0      1    0.0     001        Sud de l'Aisne\n",
       "1      2    0.0     002      Saint-Quentinois\n",
       "2      3    0.0     003              Laonnois\n",
       "3      4    0.0     004           Soissonnais\n",
       "4      5    0.0     005             Thiérache\n",
       "5      6    0.0     006              Chaunois\n",
       "6      7    0.0     007             Cambrésis\n",
       "7      8  107.0     008         Valenciennois\n",
       "8      9    0.0     009              Douaisis\n",
       "9     10   92.0     010       Sambre-Avesnois\n",
       "10    11   34.0     011               Flandre\n",
       "11    12  137.0     012                 Lille\n",
       "12    13  127.0     013                   MEL\n",
       "13    14   89.0     014     Roubaix-Tourcoing\n",
       "14    15  111.0     015           Dunkerquois\n",
       "15    16    0.0     016             Creillois\n",
       "16    17    0.0     017           Compiégnois\n",
       "17    18    0.0     018            Beauvaisis\n",
       "18    19    0.0     019         Sud de l'Oise\n",
       "19    20    0.0     020             Noyonnais\n",
       "20    21    0.0     021  Thelle Vexin Sablons\n",
       "21    22    0.0     022           Clermontois\n",
       "22    23    0.0     023         Montreuillois\n",
       "23    24  124.0     024             Béthunois\n",
       "24    25  148.0     025                Artois\n",
       "25    26    0.0     026            Audomarois\n",
       "26    27    0.0     027            Boulonnais\n",
       "27    28    0.0     028              Calaisis\n",
       "28    29   31.0     029             Arrageois\n",
       "29    30    0.0     030                 Arras\n",
       "30    31    0.0     031              Amiénois\n",
       "31    32    0.0     032                Amiens\n",
       "32    33    0.0     033     Picardie Maritime\n",
       "33    34    0.0     034              Santerre"
      ]
     },
     "execution_count": 350,
     "metadata": {},
     "output_type": "execute_result"
    }
   ],
   "source": [
    "Bp1"
   ]
  },
  {
   "cell_type": "code",
   "execution_count": null,
   "id": "b1a8543e",
   "metadata": {},
   "outputs": [],
   "source": []
  }
 ],
 "metadata": {
  "kernelspec": {
   "display_name": "Python 3 (ipykernel)",
   "language": "python",
   "name": "python3"
  },
  "language_info": {
   "codemirror_mode": {
    "name": "ipython",
    "version": 3
   },
   "file_extension": ".py",
   "mimetype": "text/x-python",
   "name": "python",
   "nbconvert_exporter": "python",
   "pygments_lexer": "ipython3",
   "version": "3.8.12"
  }
 },
 "nbformat": 4,
 "nbformat_minor": 5
}
